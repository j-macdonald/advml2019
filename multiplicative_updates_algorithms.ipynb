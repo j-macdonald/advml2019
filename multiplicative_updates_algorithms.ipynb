{
 "cells": [
  {
   "cell_type": "code",
   "execution_count": 1,
   "metadata": {},
   "outputs": [],
   "source": [
    "import os\n",
    "import numpy as np\n",
    "from PIL import Image\n",
    "import matplotlib.pyplot as plt\n",
    "from IPython.core.debugger import set_trace\n",
    "import math"
   ]
  },
  {
   "cell_type": "code",
   "execution_count": 2,
   "metadata": {},
   "outputs": [],
   "source": [
    "\n",
    "\n",
    "def load_data(root='data/CroppedYaleB', reduce=4):\n",
    "    \"\"\" \n",
    "    Load ORL (or Extended YaleB) dataset to numpy array.\n",
    "    \n",
    "    Args:\n",
    "        root: path to dataset.\n",
    "        reduce: scale factor for zooming out images.\n",
    "        \n",
    "    \"\"\" \n",
    "    images, labels = [], []\n",
    "\n",
    "    for i, person in enumerate(sorted(os.listdir(root))):\n",
    "        \n",
    "        if not os.path.isdir(os.path.join(root, person)):\n",
    "            continue\n",
    "        \n",
    "        for fname in os.listdir(os.path.join(root, person)):    \n",
    "            \n",
    "            # Remove background images in Extended YaleB dataset.\n",
    "            if fname.endswith('Ambient.pgm'):\n",
    "                continue\n",
    "            \n",
    "            if not fname.endswith('.pgm'):\n",
    "                continue\n",
    "                \n",
    "            # load image.\n",
    "            img = Image.open(os.path.join(root, person, fname))\n",
    "            img = img.convert('L') # grey image.\n",
    "\n",
    "            # reduce computation complexity.\n",
    "            img = img.resize([s//reduce for s in img.size])\n",
    "\n",
    "            # TODO: preprocessing.\n",
    "\n",
    "            # convert image to numpy array.\n",
    "            img = np.asarray(img).reshape((-1,1))\n",
    "\n",
    "            # collect data and label.\n",
    "            images.append(img)\n",
    "            labels.append(i)\n",
    "\n",
    "    # concate all images and labels.\n",
    "    images = np.concatenate(images, axis=1)\n",
    "    labels = np.array(labels)\n",
    "\n",
    "    return images, labels"
   ]
  },
  {
   "cell_type": "code",
   "execution_count": null,
   "metadata": {},
   "outputs": [],
   "source": [
    "# Load ORL dataset.\n",
    "X, Y = load_data(root='data/ORL', reduce=1)\n",
    "print('ORL dataset: X.shape = {}, Y.shape = {}'.format(X.shape, Y.shape))"
   ]
  },
  {
   "cell_type": "markdown",
   "metadata": {},
   "source": [
    "## Euclidean multiplicative update alogrithm"
   ]
  },
  {
   "cell_type": "code",
   "execution_count": 8,
   "metadata": {},
   "outputs": [],
   "source": [
    "\"\"\"\n",
    "https://papers.nips.cc/paper/1861-algorithms-for-non-negative-matrix-factorization.pdf\n",
    "V = WH\n",
    "\n",
    "W = (n x r) matrix\n",
    "H = (r x m) matrix\n",
    "\n",
    "cost function SSE = sum(V-WH)**2\n",
    "\n",
    "multiplicative update rules\n",
    " H = H*(W.T@V)/(W.T@W@H)\n",
    " W = W(V@H.T)/(W@H@HT)\n",
    " \n",
    " check error\n",
    " \n",
    " itterate\n",
    "\n",
    "\"\"\"\n",
    "\n",
    "def euclidean_multiplicative_update (V, r, iteration):\n",
    "    \n",
    "    loss = []\n",
    "    W = np.random.rand(V.shape[0],r)*255\n",
    "    H = np.random.rand(r,V.shape[1])*255\n",
    "    \n",
    "    for i in range(iteration):\n",
    "        H = H*(W.T@V)/(W.T@W@H)\n",
    "        W = W*(V@H.T)/(W@H@H.T)\n",
    "        l = np.sum((V-W@H)**2)\n",
    "        loss.append(l)\n",
    "        \n",
    "    return W, H, loss        \n"
   ]
  },
  {
   "cell_type": "code",
   "execution_count": 10,
   "metadata": {},
   "outputs": [],
   "source": [
    "W, H, loss  = euclidean_multiplicative_update(X, 10, 100)"
   ]
  },
  {
   "cell_type": "code",
   "execution_count": 11,
   "metadata": {},
   "outputs": [
    {
     "name": "stdout",
     "output_type": "stream",
     "text": [
      "100\n"
     ]
    }
   ],
   "source": [
    "print(len(loss))\n",
    "plt.plot(range(0,len(loss)),loss)"
   ]
  },
  {
   "cell_type": "code",
   "execution_count": 23,
   "metadata": {},
   "outputs": [],
   "source": [
    "'''\n",
    "https://papers.nips.cc/paper/1861-algorithms-for-non-negative-matrix-factorization.pdf\n",
    "implimentation from page 3 formula 5\n",
    "'''\n",
    "\n",
    "def KL_divergence_update(V,r,iteration):\n",
    "\n",
    "    loss = []\n",
    "    W = np.random.rand(V.shape[0],r)*255\n",
    "    H = np.random.rand(r,V.shape[1])*255\n",
    "    \n",
    "    for i in range(iteration):\n",
    "        H = H * np.dot(W.T,V / np.dot(W,H)) / np.sum(W,0)[:,None]\n",
    "        W = W * np.dot(V / np.dot(W,H),H.T) / np.sum(H,1)\n",
    "        l=np.sum(V*np.log((V++1e-10)/(W@H))-V+(W@H))\n",
    "        loss.append(l)\n",
    "        \n",
    "    return W, H, loss \n",
    "    "
   ]
  },
  {
   "cell_type": "code",
   "execution_count": 24,
   "metadata": {},
   "outputs": [],
   "source": [
    "W, H, loss  = KL_divergence_update(X, 10, 50)"
   ]
  },
  {
   "cell_type": "code",
   "execution_count": null,
   "metadata": {},
   "outputs": [],
   "source": [
    "plt.plot(range(0,len(loss)),loss)"
   ]
  },
  {
   "cell_type": "markdown",
   "metadata": {},
   "source": [
    "## Algorithm: NMF with L1 sparseness constraints"
   ]
  },
  {
   "cell_type": "code",
   "execution_count": 38,
   "metadata": {},
   "outputs": [],
   "source": [
    "H = np.random.rand(10,30)*100"
   ]
  },
  {
   "cell_type": "code",
   "execution_count": 50,
   "metadata": {},
   "outputs": [],
   "source": [
    "def hoyers_projection(x, L1_constraint):\n",
    "    \n",
    "    #determine parameters\n",
    "    n = len(x)\n",
    "    L1 = np.sum(x)\n",
    "    L2 = np.sum(x**2) \n",
    "    e = np.ones(n)\n",
    "    \n",
    "    #zero coefficients\n",
    "    zero_coeff = []\n",
    "    \n",
    "    s = x+(L1_constraint-L1)/(n) \n",
    "    \n",
    "    s = s.flatten()\n",
    "\n",
    "    n_iter = 0\n",
    "    \n",
    "    while True:\n",
    "        \n",
    "        #set zero coefficents in mid point to zero \n",
    "        #mid point\n",
    "        m = np.ones(n)*L1_constraint/(n-len(zero_coeff))\n",
    "        m[zero_coeff] = 0\n",
    "        w = s-m\n",
    "        w_T = w.T\n",
    "        a = np.sum(w**2)\n",
    "        b = (s@w_T)*2\n",
    "        c = np.sum(s**2)-L2\n",
    "\n",
    "        #solve quadratic\n",
    "        alpha = (-b+math.sqrt(b**2-4*a*c))/(2*a)\n",
    "\n",
    "        s = alpha*w + s\n",
    "        \n",
    "        if (s>=0).all():\n",
    "            n_iter += 1\n",
    "            break\n",
    "\n",
    "        n_iter += 1\n",
    "        \n",
    "        negatives = np.where(s<=0)[0]\n",
    "        \n",
    "        negatives = [i for i in negatives if i not in zero_coeff]\n",
    "        \n",
    "        zero_coeff.extend(negatives)\n",
    "        \n",
    "        s[zero_coeff] = 0\n",
    "        \n",
    "        tempsum = sum(s)\n",
    "        \n",
    "        s = s + (L1_constraint-tempsum)/(n-len(zero_coeff))\n",
    "        \n",
    "        s[zero_coeff] = 0\n",
    "        \n",
    "        if n_iter == n:\n",
    "            break\n",
    "                \n",
    "    return s, n_iter\n"
   ]
  },
  {
   "cell_type": "code",
   "execution_count": 133,
   "metadata": {},
   "outputs": [],
   "source": [
    "def NMFS2(V,r,Hs,Ws,muH,muW):\n",
    "    \n",
    "    #Hs set sparesness of H between [0:1]\n",
    "    #Ws set sparesness of H between [0:1]\n",
    "    #r new dimension\n",
    "    #muH step size for gradient descent\n",
    "    #muW step size for gradient descent\n",
    "    \n",
    "    #shape of input matrix\n",
    "    m = V.shape[0]\n",
    "    n = V.shape[1]\n",
    "    V=V\n",
    "    \n",
    "    #set error\n",
    "    error = []\n",
    "\n",
    "    #randomly intialise W & H\n",
    "    W = np.random.rand(V.shape[0],r)*255\n",
    "    H = np.random.rand(r,V.shape[1])*255\n",
    "    \n",
    "    l = np.sum((V-W@H)**2)\n",
    "    error.append(l)\n",
    "       \n",
    "    #If sparseness constraints on W apply, then project each column of W to be non-negative, have\n",
    "    #unchanged L2 norm, but L1 norm set to achieve desired sparseness\n",
    "    if Ws is not None:\n",
    "        L1a = (math.sqrt(m)-(math.sqrt(m)-1)*Ws)\n",
    "        for i in range(0,r):\n",
    "            W[:,i] = hoyers_projection(W[:,i],L1a*np.linalg.norm(W[:,i]))[0]\n",
    "    \n",
    "     #If sparseness constraints on H apply, then project each row of H to be non-negative, have unit\n",
    "     #L2 norm, and L1 norm set to achieve desired sparseness\n",
    "    if Hs is not None:\n",
    "        #normalise L2 to unit norm\n",
    "        H = H / np.linalg.norm(H.T, axis=1)\n",
    "        L1s = math.sqrt(n)-(math.sqrt(n)-1)*Hs \n",
    "        for i in range(0,r):\n",
    "            H[i,:] = hoyers_projection(H[i,:],L1s*np.linalg.norm(H[i,:]))[0]\n",
    "    \n",
    "    for x in range(0,100):\n",
    "    \n",
    "        #Iterate\n",
    "\n",
    "        #If sparseness constraints on W apply,\n",
    "            #i. Set W := W−µW(WH−V)HT\n",
    "            #ii. Project each column of W to be non-negative, have unchanged L2 norm, but L1\n",
    "            #norm set to achieve desired sparseness\n",
    "            #else take standard multiplicative step W := W⊗(VHT)/(WHHT)\n",
    "        if Ws is not None:\n",
    "            W = W-muW*((W@H-V)@H.T)\n",
    "            for i in range(0,r):\n",
    "                W[:,i] = hoyers_projection(W[:,i],L1a*np.linalg.norm(W[:,i]))[0]\n",
    "        else:\n",
    "             W = W*(V@H.T)/(W@H@H.T)\n",
    "\n",
    "         #If sparseness constraints on H apply,\n",
    "            #i. Set H := H−µHWT(WH−V)\n",
    "            #ii. Project each row of H to be non-negative, have unit L2 norm, and L1 norm set to achieve desired sparseness\n",
    "            #else take standard multiplicative step H := H⊗(WTV)/(WTWH)\n",
    "        if Hs is not None:\n",
    "            H = H-muH*(W.T@(W@H-V))\n",
    "            for i in range(0,r):\n",
    "                H[i,:] = hoyers_projection(H[i,:],L1s*np.linalg.norm(H[i,:]))[0]\n",
    "        else:\n",
    "            H = H*(W.T@V)/(W.T@W@H)\n",
    "\n",
    "        l = np.sum((V-W@H)**2)\n",
    "        error.append(l)\n",
    "\n",
    "    \n",
    "\n",
    "    return W,H, error\n",
    "    "
   ]
  },
  {
   "cell_type": "code",
   "execution_count": 136,
   "metadata": {},
   "outputs": [
    {
     "data": {
      "text/plain": [
       "[<matplotlib.lines.Line2D at 0x2793ebf3198>]"
      ]
     },
     "execution_count": 136,
     "metadata": {},
     "output_type": "execute_result"
    },
    {
     "data": {
      "image/png": "[encoded data removed]",
      "text/plain": [
       "<Figure size 432x288 with 1 Axes>"
      ]
     },
     "metadata": {
      "needs_background": "light"
     },
     "output_type": "display_data"
    }
   ],
   "source": [
    "Wnew,Hnew, error = NMFS2(H,10,None,0.6,0.002,0.002)\n",
    "plt.plot(range(0,len(error)),error)"
   ]
  }
 ],
 "metadata": {
  "kernelspec": {
   "display_name": "Python [conda env:py36]",
   "language": "python",
   "name": "conda-env-py36-py"
  },
  "language_info": {
   "codemirror_mode": {
    "name": "ipython",
    "version": 3
   },
   "file_extension": ".py",
   "mimetype": "text/x-python",
   "name": "python",
   "nbconvert_exporter": "python",
   "pygments_lexer": "ipython3",
   "version": "3.6.7"
  }
 },
 "nbformat": 4,
 "nbformat_minor": 2
}
